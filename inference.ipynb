{
 "cells": [
  {
   "cell_type": "code",
   "execution_count": null,
   "metadata": {},
   "outputs": [],
   "source": [
    "import argparse\n",
    "import os, sys\n",
    "import torch\n",
    "import numpy as np\n",
    "from tqdm import tqdm\n",
    "import datetime, random\n",
    "import torch.nn.functional as F\n",
    "from torch import nn\n",
    "from torch import optim\n",
    "from torch.utils.data import DataLoader\n",
    "from torch.utils.tensorboard import SummaryWriter\n",
    "from datasets import Ambisonizer\n",
    "from model.seanet import SEANet\n",
    "from utils import seed_worker, set_seed\n",
    "import auraloss\n",
    "\n",
    "device = 'cpu'\n",
    "\n",
    "checkpoint_path = None # Fill this in with the path to the checkpoint you want to load\n",
    "\n",
    "model = SEANet(480000, 64).to(device)\n",
    "model.load_state_dict(torch.load(checkpoint_path, map_location=device))\n",
    "print(model)"
   ]
  },
  {
   "cell_type": "code",
   "execution_count": null,
   "metadata": {},
   "outputs": [],
   "source": [
    "source_audio = None # Fill this in with the path to the audio file you want to use\n",
    "import librosa\n",
    "y, sr = librosa.load(source_audio, sr=44100, mono=False)\n",
    "start_idx = np.random.randint(0, y.shape[1] - 480000)\n",
    "y = y[:, start_idx:start_idx+480000]\n",
    "print(y.shape)"
   ]
  },
  {
   "cell_type": "code",
   "execution_count": null,
   "metadata": {},
   "outputs": [],
   "source": [
    "y = torch.tensor(y).to(device).float().unsqueeze(0)\n",
    "print(y.shape)\n",
    "y_pred, _, _ = model(y)\n",
    "print(y_pred.shape)"
   ]
  },
  {
   "cell_type": "code",
   "execution_count": null,
   "metadata": {},
   "outputs": [],
   "source": [
    "# save y\n",
    "y = y.squeeze().detach().cpu().numpy()\n",
    "y = np.transpose(y, (1, 0))\n",
    "y = np.ascontiguousarray(y)\n",
    "import soundfile as sf\n",
    "sf.write('y.wav', y, 44100)\n",
    "y_mono = np.mean(y, axis=1)\n",
    "sf.write('y_mono.wav', y_mono, 44100)"
   ]
  },
  {
   "cell_type": "code",
   "execution_count": null,
   "metadata": {},
   "outputs": [],
   "source": [
    "y_pred = y_pred.squeeze().detach().cpu().numpy()\n",
    "x = y_pred[0]\n",
    "y = y_pred[1]\n",
    "w = np.mean(y, axis=0)\n",
    "\n",
    "sf.write('X.wav', x, 44100)\n",
    "sf.write('Y.wav', y, 44100)\n",
    "sf.write('W.wav', w, 44100)"
   ]
  }
 ],
 "metadata": {
  "kernelspec": {
   "display_name": "ambisonizer",
   "language": "python",
   "name": "python3"
  },
  "language_info": {
   "codemirror_mode": {
    "name": "ipython",
    "version": 3
   },
   "file_extension": ".py",
   "mimetype": "text/x-python",
   "name": "python",
   "nbconvert_exporter": "python",
   "pygments_lexer": "ipython3",
   "version": "3.10.13"
  }
 },
 "nbformat": 4,
 "nbformat_minor": 2
}
