{
 "cells": [
  {
   "cell_type": "code",
   "execution_count": null,
   "metadata": {},
   "outputs": [],
   "source": [
    "import numpy as np\n",
    "import librosa\n",
    "import soundfile as sf\n",
    "\n",
    "azimuth_list = [-60, 120] # Left and right speaker azimuths\n",
    "azimuth_list = [np.deg2rad(azimuth) for azimuth in azimuth_list]\n",
    "\n",
    "w_signal = \"W.wav\"\n",
    "x_signal = \"X.wav\"\n",
    "y_signal = \"Y.wav\"\n",
    "\n",
    "w, _ = librosa.load(w_signal, sr=44100)\n",
    "x, _ = librosa.load(x_signal, sr=44100)\n",
    "y, _ = librosa.load(y_signal, sr=44100)\n",
    "\n",
    "x = x[:len(w)]\n",
    "y = y[:len(w)]\n",
    "\n",
    "left = 0.3 * w + x * np.cos(azimuth_list[0]) + y * np.sin(azimuth_list[0])\n",
    "right = 0.3 * w + x * np.cos(azimuth_list[1]) + y * np.sin(azimuth_list[1])\n",
    "signal = np.array([left, right]).T\n",
    "\n",
    "sf.write(\"test.wav\", signal, 44100)"
   ]
  }
 ],
 "metadata": {
  "kernelspec": {
   "display_name": "ambisonizer",
   "language": "python",
   "name": "python3"
  },
  "language_info": {
   "codemirror_mode": {
    "name": "ipython",
    "version": 3
   },
   "file_extension": ".py",
   "mimetype": "text/x-python",
   "name": "python",
   "nbconvert_exporter": "python",
   "pygments_lexer": "ipython3",
   "version": "3.11.4"
  }
 },
 "nbformat": 4,
 "nbformat_minor": 2
}
